{
 "cells": [
  {
   "cell_type": "code",
   "execution_count": 1,
   "id": "02c7e8e2-50a3-4f2f-864f-a55f657444d3",
   "metadata": {},
   "outputs": [],
   "source": [
    "testbstring = \"49276d206b696c6c696e6720796f757220627261696e206c696b65206120706f69736f6e6f7573206d757368726f6f6d\"\n",
    "\n",
    "testbarray = bytearray.fromhex(testbstring)"
   ]
  },
  {
   "cell_type": "code",
   "execution_count": 3,
   "id": "ec467d09-5d92-42b7-a307-2c9283f0d6a8",
   "metadata": {},
   "outputs": [
    {
     "name": "stdout",
     "output_type": "stream",
     "text": [
      "73\n"
     ]
    }
   ],
   "source": [
    "print(testbarray[0])"
   ]
  },
  {
   "cell_type": "code",
   "execution_count": 4,
   "id": "7bd294af-ed83-45e6-be88-ef95a6357fad",
   "metadata": {},
   "outputs": [],
   "source": [
    "from base64 import b64encode, b64decode"
   ]
  },
  {
   "cell_type": "code",
   "execution_count": 15,
   "id": "27286316-bf3a-4244-98e0-df495f0f1bff",
   "metadata": {},
   "outputs": [],
   "source": [
    "b64 = b64encode(bytearray.fromhex(testbstring))"
   ]
  },
  {
   "cell_type": "code",
   "execution_count": 16,
   "id": "234ca458-1419-42ba-bad0-c8c6c4e109fd",
   "metadata": {},
   "outputs": [
    {
     "name": "stdout",
     "output_type": "stream",
     "text": [
      "b'SSdtIGtpbGxpbmcgeW91ciBicmFpbiBsaWtlIGEgcG9pc29ub3VzIG11c2hyb29t'\n"
     ]
    }
   ],
   "source": [
    "print(b64)"
   ]
  },
  {
   "cell_type": "code",
   "execution_count": 38,
   "id": "9f223867-2aa4-4636-b889-a8962415e37a",
   "metadata": {},
   "outputs": [],
   "source": [
    "def hexStringToBase64(s):\n",
    "    return b64encode(bytes.fromhex(s))\n",
    "\n",
    "def fixedXor(s1, s2):\n",
    "    bs1, bs2 = bytes.fromhex(s1), bytes.fromhex(s2)\n",
    "    assert(len(bs1) == len(bs2))\n",
    "    return bytes([a^b for a,b in zip(bs1,bs2)])\n"
   ]
  },
  {
   "cell_type": "code",
   "execution_count": 39,
   "id": "5ae989c1-0a6a-4c40-94aa-4637f921f786",
   "metadata": {},
   "outputs": [],
   "source": [
    "c21 = \"1c0111001f010100061a024b53535009181c\"\n",
    "c22 = \"686974207468652062756c6c277320657965\""
   ]
  },
  {
   "cell_type": "code",
   "execution_count": 42,
   "id": "1fb1eec2-18a4-42c6-94b1-b4180aa70a6c",
   "metadata": {},
   "outputs": [
    {
     "name": "stdout",
     "output_type": "stream",
     "text": [
      "746865206b696420646f6e277420706c6179\n"
     ]
    }
   ],
   "source": [
    "print(fixedXor(c21,c22).hex())"
   ]
  },
  {
   "cell_type": "code",
   "execution_count": 23,
   "id": "197444a2-d8f5-4986-b900-9e23ed6a3707",
   "metadata": {},
   "outputs": [
    {
     "name": "stdout",
     "output_type": "stream",
     "text": [
      "bytearray(b'\\x1c\\x01\\x11\\x00\\x1f\\x01\\x01\\x00\\x06\\x1a\\x02KSSP\\t\\x18\\x1c')\n"
     ]
    }
   ],
   "source": [
    "print(bytearray.fromhex(c21))"
   ]
  },
  {
   "cell_type": "code",
   "execution_count": 48,
   "id": "3df36436-90e5-4f53-8d3d-dae329ef382a",
   "metadata": {},
   "outputs": [],
   "source": [
    "ab1 = bytearray.fromhex(c21)"
   ]
  },
  {
   "cell_type": "code",
   "execution_count": 56,
   "id": "883cfc7b-b80f-4237-88c8-d60168d6a585",
   "metadata": {},
   "outputs": [
    {
     "data": {
      "text/plain": [
       "28"
      ]
     },
     "execution_count": 56,
     "metadata": {},
     "output_type": "execute_result"
    }
   ],
   "source": [
    "ab1[0]"
   ]
  },
  {
   "cell_type": "code",
   "execution_count": 1,
   "id": "3eabbcbe-c18b-4a4e-a03b-37ffb67ff242",
   "metadata": {},
   "outputs": [],
   "source": [
    "loc_en = \"\"\"\n",
    "E\t12.60\n",
    "T\t9.37\n",
    "A\t8.34\n",
    "O\t7.70\n",
    "N\t6.80\n",
    "I\t6.71\n",
    "H\t6.11\n",
    "S\t6.11\n",
    "R\t5.68\n",
    "L\t4.24\n",
    "D\t4.14\n",
    "U\t2.85\n",
    "C\t2.73\n",
    "M\t2.53\n",
    "W\t2.34\n",
    "Y\t2.04\n",
    "F\t2.03\n",
    "G\t1.92\n",
    "P\t1.66\n",
    "B\t1.54\n",
    "V\t1.06\n",
    "K\t0.87\n",
    "J\t0.23\n",
    "X\t0.20\n",
    "Q\t0.09\n",
    "Z\t0.06\n",
    "\"\"\""
   ]
  },
  {
   "cell_type": "code",
   "execution_count": 4,
   "id": "2d957d02",
   "metadata": {},
   "outputs": [
    {
     "data": {
      "text/plain": [
       "'E\\t12.60'"
      ]
     },
     "execution_count": 4,
     "metadata": {},
     "output_type": "execute_result"
    }
   ],
   "source": [
    "en_dic = dict()\n",
    "loc_en.split(\"\\n\")[1]"
   ]
  },
  {
   "cell_type": "code",
   "execution_count": null,
   "id": "448da87a",
   "metadata": {},
   "outputs": [],
   "source": []
  }
 ],
 "metadata": {
  "kernelspec": {
   "display_name": "Python 3 (ipykernel)",
   "language": "python",
   "name": "python3"
  },
  "language_info": {
   "codemirror_mode": {
    "name": "ipython",
    "version": 3
   },
   "file_extension": ".py",
   "mimetype": "text/x-python",
   "name": "python",
   "nbconvert_exporter": "python",
   "pygments_lexer": "ipython3",
   "version": "3.9.7"
  }
 },
 "nbformat": 4,
 "nbformat_minor": 5
}
